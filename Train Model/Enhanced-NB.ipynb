{
 "cells": [
  {
   "cell_type": "code",
   "execution_count": 1,
   "metadata": {
    "collapsed": true
   },
   "outputs": [],
   "source": [
    "import string\n",
    "import html\n",
    "\n",
    "import my_utils\n",
    "\n",
    "import pandas as pd\n",
    "import numpy as np\n",
    "import matplotlib.pyplot as plt\n",
    "\n",
    "from nltk.corpus import stopwords as sw\n",
    "from nltk import word_tokenize\n",
    "from nltk import WordNetLemmatizer\n",
    "from nltk import FreqDist\n",
    "\n",
    "from sklearn.model_selection import train_test_split\n",
    "from sklearn.feature_extraction.text import CountVectorizer\n",
    "from sklearn.feature_extraction.text import TfidfVectorizer\n",
    "from sklearn.naive_bayes import MultinomialNB\n",
    "from sklearn.metrics import accuracy_score\n",
    "from sklearn.metrics import classification_report\n",
    "\n",
    "from scipy.sparse import vstack"
   ]
  },
  {
   "cell_type": "markdown",
   "metadata": {},
   "source": [
    "### Load Data"
   ]
  },
  {
   "cell_type": "code",
   "execution_count": 2,
   "metadata": {
    "collapsed": true
   },
   "outputs": [],
   "source": [
    "# Load data set as data frame\n",
    "kindle_data = pd.read_csv('sampled_data.csv')"
   ]
  },
  {
   "cell_type": "code",
   "execution_count": 3,
   "metadata": {
    "collapsed": true
   },
   "outputs": [],
   "source": [
    "# Split dataset into pos & neg\n",
    "def split_pos_neg(data_):\n",
    "    neg = data_.loc[data_.overall == 'neg']\n",
    "    pos = data_.loc[data_.overall == 'pos']\n",
    "    return pos, neg\n",
    "\n",
    "pos,neg = split_pos_neg(kindle_data)"
   ]
  },
  {
   "cell_type": "markdown",
   "metadata": {},
   "source": [
    "### Enhanced Preprocessing"
   ]
  },
  {
   "cell_type": "code",
   "execution_count": 4,
   "metadata": {
    "collapsed": true
   },
   "outputs": [],
   "source": [
    "stopwords = sw.words('english')\n",
    "stopwords = stopwords + ['not_' + w for w in stopwords]\n",
    "lemmatizer = WordNetLemmatizer()"
   ]
  },
  {
   "cell_type": "code",
   "execution_count": 6,
   "metadata": {},
   "outputs": [
    {
     "name": "stdout",
     "output_type": "stream",
     "text": [
      "['i', 'me', 'my', 'myself', 'we', 'our', 'ours', 'ourselves', 'you', 'your', 'yours', 'yourself', 'yourselves', 'he', 'him', 'his', 'himself', 'she', 'her', 'hers', 'herself', 'it', 'its', 'itself', 'they', 'them', 'their', 'theirs', 'themselves', 'what', 'which', 'who', 'whom', 'this', 'that', 'these', 'those', 'am', 'is', 'are', 'was', 'were', 'be', 'been', 'being', 'have', 'has', 'had', 'having', 'do', 'does', 'did', 'doing', 'a', 'an', 'the', 'and', 'but', 'if', 'or', 'because', 'as', 'until', 'while', 'of', 'at', 'by', 'for', 'with', 'about', 'against', 'between', 'into', 'through', 'during', 'before', 'after', 'above', 'below', 'to', 'from', 'up', 'down', 'in', 'out', 'on', 'off', 'over', 'under', 'again', 'further', 'then', 'once', 'here', 'there', 'when', 'where', 'why', 'how', 'all', 'any', 'both', 'each', 'few', 'more', 'most', 'other', 'some', 'such', 'no', 'nor', 'not', 'only', 'own', 'same', 'so', 'than', 'too', 'very', 's', 't', 'can', 'will', 'just', 'don', 'should', 'now', 'd', 'll', 'm', 'o', 're', 've', 'y', 'ain', 'aren', 'couldn', 'didn', 'doesn', 'hadn', 'hasn', 'haven', 'isn', 'ma', 'mightn', 'mustn', 'needn', 'shan', 'shouldn', 'wasn', 'weren', 'won', 'wouldn', 'not_i', 'not_me', 'not_my', 'not_myself', 'not_we', 'not_our', 'not_ours', 'not_ourselves', 'not_you', 'not_your', 'not_yours', 'not_yourself', 'not_yourselves', 'not_he', 'not_him', 'not_his', 'not_himself', 'not_she', 'not_her', 'not_hers', 'not_herself', 'not_it', 'not_its', 'not_itself', 'not_they', 'not_them', 'not_their', 'not_theirs', 'not_themselves', 'not_what', 'not_which', 'not_who', 'not_whom', 'not_this', 'not_that', 'not_these', 'not_those', 'not_am', 'not_is', 'not_are', 'not_was', 'not_were', 'not_be', 'not_been', 'not_being', 'not_have', 'not_has', 'not_had', 'not_having', 'not_do', 'not_does', 'not_did', 'not_doing', 'not_a', 'not_an', 'not_the', 'not_and', 'not_but', 'not_if', 'not_or', 'not_because', 'not_as', 'not_until', 'not_while', 'not_of', 'not_at', 'not_by', 'not_for', 'not_with', 'not_about', 'not_against', 'not_between', 'not_into', 'not_through', 'not_during', 'not_before', 'not_after', 'not_above', 'not_below', 'not_to', 'not_from', 'not_up', 'not_down', 'not_in', 'not_out', 'not_on', 'not_off', 'not_over', 'not_under', 'not_again', 'not_further', 'not_then', 'not_once', 'not_here', 'not_there', 'not_when', 'not_where', 'not_why', 'not_how', 'not_all', 'not_any', 'not_both', 'not_each', 'not_few', 'not_more', 'not_most', 'not_other', 'not_some', 'not_such', 'not_no', 'not_nor', 'not_not', 'not_only', 'not_own', 'not_same', 'not_so', 'not_than', 'not_too', 'not_very', 'not_s', 'not_t', 'not_can', 'not_will', 'not_just', 'not_don', 'not_should', 'not_now', 'not_d', 'not_ll', 'not_m', 'not_o', 'not_re', 'not_ve', 'not_y', 'not_ain', 'not_aren', 'not_couldn', 'not_didn', 'not_doesn', 'not_hadn', 'not_hasn', 'not_haven', 'not_isn', 'not_ma', 'not_mightn', 'not_mustn', 'not_needn', 'not_shan', 'not_shouldn', 'not_wasn', 'not_weren', 'not_won', 'not_wouldn']\n"
     ]
    }
   ],
   "source": [
    "print(stopwords)"
   ]
  },
  {
   "cell_type": "code",
   "execution_count": 9,
   "metadata": {
    "collapsed": true
   },
   "outputs": [],
   "source": [
    "def preprocessing(line: str) -> str:\n",
    "    line = html.unescape(str(line))\n",
    "    line = str(line).replace(\"can't\", \"cann't\") # unique case\n",
    "    line = word_tokenize(line.lower())\n",
    "    \n",
    "    tokens = []\n",
    "    negated = False\n",
    "    for t in line:\n",
    "        if t in ['not', \"n't\", 'no']:\n",
    "            negated = not negated\n",
    "        elif t in string.punctuation or not t.isalpha():\n",
    "            negated = False\n",
    "        else:\n",
    "            tokens.append('not_' + t if negated else t) # cannot do that -> not_do\n",
    "    \n",
    "    tokens = [lemmatizer.lemmatize(t, 'v') for t in tokens if t not in stopwords]\n",
    "        \n",
    "    return ' '.join(tokens)"
   ]
  },
  {
   "cell_type": "code",
   "execution_count": 10,
   "metadata": {},
   "outputs": [
    {
     "data": {
      "text/plain": [
       "'not_beleive not_would really freak'"
      ]
     },
     "execution_count": 10,
     "metadata": {},
     "output_type": "execute_result"
    }
   ],
   "source": [
    "preprocessing(\"I can't beleive he wouldn't do that... He's really freaking me out.\")"
   ]
  },
  {
   "cell_type": "code",
   "execution_count": 11,
   "metadata": {},
   "outputs": [
    {
     "name": "stdout",
     "output_type": "stream",
     "text": [
      "Preprocessing pos data:  |==================================================| 100% \n"
     ]
    }
   ],
   "source": [
    "pos_data = []\n",
    "n_pos = len(pos)\n",
    "for i, p in enumerate(pos['reviewText']):\n",
    "    pos_data.append(preprocessing(p))\n",
    "    my_utils.print_progress(bar_length=50, decimals=0, iteration=i + 1, total=n_pos, prefix='Preprocessing pos data: ')"
   ]
  },
  {
   "cell_type": "code",
   "execution_count": 12,
   "metadata": {},
   "outputs": [
    {
     "name": "stdout",
     "output_type": "stream",
     "text": [
      "Preprocessing neg data:  |==================================================| 100% \n"
     ]
    }
   ],
   "source": [
    "neg_data = []\n",
    "n_neg = len(neg)\n",
    "for i, n in enumerate(neg['reviewText']):\n",
    "    neg_data.append(preprocessing(n))\n",
    "    my_utils.print_progress(bar_length=50, decimals=0, iteration=i+1, total=n_neg, prefix='Preprocessing neg data: ')"
   ]
  },
  {
   "cell_type": "code",
   "execution_count": 13,
   "metadata": {
    "collapsed": true
   },
   "outputs": [],
   "source": [
    "data = pos_data + neg_data\n",
    "labels = np.concatenate((pos['overall'].values,neg['overall'].values))"
   ]
  },
  {
   "cell_type": "markdown",
   "metadata": {},
   "source": [
    "### Split data for testing"
   ]
  },
  {
   "cell_type": "code",
   "execution_count": 14,
   "metadata": {
    "collapsed": true
   },
   "outputs": [],
   "source": [
    "train_data, test_data, train_y, test_y = \\\n",
    "train_test_split(\n",
    "    data, \n",
    "    labels, \n",
    "    test_size=0.2, \n",
    "    stratify=labels, \n",
    "    random_state=1234\n",
    ")"
   ]
  },
  {
   "cell_type": "code",
   "execution_count": 15,
   "metadata": {
    "collapsed": true
   },
   "outputs": [],
   "source": [
    "tokens = [word for line in train_data \\\n",
    "               for word in word_tokenize(line)]\n",
    "\n",
    "word_features = FreqDist(tokens)"
   ]
  },
  {
   "cell_type": "markdown",
   "metadata": {},
   "source": [
    "### Find best \\# features\n",
    "\n",
    "Find best number of top words as features to use."
   ]
  },
  {
   "cell_type": "code",
   "execution_count": 16,
   "metadata": {
    "collapsed": true
   },
   "outputs": [],
   "source": [
    "def train_with_n_topwords(n: int, tfidf=False) -> tuple:\n",
    "    topwords = [fpair[0] for fpair in list(word_features.most_common(n))]\n",
    "    \n",
    "    if tfidf:\n",
    "        vec = TfidfVectorizer()\n",
    "    else:\n",
    "        vec = CountVectorizer()\n",
    "        \n",
    "    vec.fit(topwords)\n",
    "    \n",
    "    # Generate feature vectors\n",
    "    train_X = vec.transform(train_data)\n",
    "    test_X  = vec.transform(test_data)\n",
    "    \n",
    "    # NB\n",
    "    mnb_model = MultinomialNB()\n",
    "    mnb_model.fit(train_X, train_y)\n",
    "    \n",
    "    # Test predict\n",
    "    pred = mnb_model.predict(test_X)\n",
    "    \n",
    "    return accuracy_score(pred, test_y), mnb_model"
   ]
  },
  {
   "cell_type": "code",
   "execution_count": 17,
   "metadata": {},
   "outputs": [
    {
     "data": {
      "text/plain": [
       "(0.82841379310344831,\n",
       " MultinomialNB(alpha=1.0, class_prior=None, fit_prior=True))"
      ]
     },
     "execution_count": 17,
     "metadata": {},
     "output_type": "execute_result"
    }
   ],
   "source": [
    "train_with_n_topwords(5000, tfidf=True)"
   ]
  },
  {
   "cell_type": "code",
   "execution_count": 18,
   "metadata": {},
   "outputs": [
    {
     "name": "stdout",
     "output_type": "stream",
     "text": [
      "Train and verify: |==================================================| 100% \n"
     ]
    }
   ],
   "source": [
    "possible_n = [5000 * i for i in range(1, 20)]\n",
    "\n",
    "cnt_accuracies = []\n",
    "tfidf_accuracies = []\n",
    "for i, n in enumerate(possible_n):\n",
    "    cnt_accuracies.append(train_with_n_topwords(n)[0])\n",
    "    my_utils.print_progress(bar_length=50, decimals=0, iteration=2 * i + 1, total=2*len(possible_n), prefix='Train and verify:')\n",
    "    \n",
    "    tfidf_accuracies.append(train_with_n_topwords(n, tfidf=True)[0])\n",
    "    my_utils.print_progress(bar_length=50, decimals=0, iteration=2 * i + 2, total=2*len(possible_n), prefix='Train and verify:')"
   ]
  },
  {
   "cell_type": "code",
   "execution_count": 19,
   "metadata": {
    "scrolled": true
   },
   "outputs": [
    {
     "data": {
      "text/plain": [
       "<matplotlib.legend.Legend at 0x12625a780>"
      ]
     },
     "execution_count": 19,
     "metadata": {},
     "output_type": "execute_result"
    },
    {
     "data": {
      "image/png": "[encoded data removed]",
      "text/plain": [
       "<matplotlib.figure.Figure at 0x125727438>"
      ]
     },
     "metadata": {},
     "output_type": "display_data"
    }
   ],
   "source": [
    "%matplotlib inline\n",
    "plt.plot(possible_n, cnt_accuracies, label='Word Count')\n",
    "plt.plot(possible_n, tfidf_accuracies, label='Tf-idf')\n",
    "plt.legend()"
   ]
  },
  {
   "cell_type": "code",
   "execution_count": 20,
   "metadata": {},
   "outputs": [
    {
     "data": {
      "text/plain": [
       "(0.83282758620689656,\n",
       " MultinomialNB(alpha=1.0, class_prior=None, fit_prior=True))"
      ]
     },
     "execution_count": 20,
     "metadata": {},
     "output_type": "execute_result"
    }
   ],
   "source": [
    "train_with_n_topwords(15000, tfidf=True)"
   ]
  },
  {
   "cell_type": "code",
   "execution_count": 21,
   "metadata": {},
   "outputs": [
    {
     "data": {
      "text/plain": [
       "MultinomialNB(alpha=1.0, class_prior=None, fit_prior=True)"
      ]
     },
     "execution_count": 21,
     "metadata": {},
     "output_type": "execute_result"
    }
   ],
   "source": [
    "# Train actuall model (tfidf + 15000 features)\n",
    "topwords = [fpair[0] for fpair in list(word_features.most_common(15000))]\n",
    "\n",
    "tfidf_vec = TfidfVectorizer()\n",
    "tfidf_vec.fit(topwords)\n",
    "\n",
    "train_X = tfidf_vec.transform(train_data)\n",
    "test_X  = tfidf_vec.transform(test_data)\n",
    "\n",
    "X = vstack([train_X, test_X])\n",
    "y = np.append(train_y, test_y)\n",
    "\n",
    "best_model = MultinomialNB()\n",
    "best_model.fit(train_X, train_y)"
   ]
  },
  {
   "cell_type": "markdown",
   "metadata": {},
   "source": [
    "### Save model"
   ]
  },
  {
   "cell_type": "code",
   "execution_count": 22,
   "metadata": {
    "collapsed": true
   },
   "outputs": [],
   "source": [
    "import pickle\n",
    "import os\n",
    "\n",
    "if not os.path.exists('model'):\n",
    "    os.makedirs('model')\n",
    "\n",
    "# Save vectorizer\n",
    "with open('model/tf_vec.pkl', 'wb') as pkl_file:\n",
    "    pickle.dump(tfidf_vec, pkl_file)\n",
    "\n",
    "# Save Model\n",
    "with open('model/mnb_model.pkl', 'wb') as pkl_file:\n",
    "    pickle.dump(best_model, pkl_file)"
   ]
  },
  {
   "cell_type": "code",
   "execution_count": null,
   "metadata": {
    "collapsed": true
   },
   "outputs": [],
   "source": []
  }
 ],
 "metadata": {
  "kernelspec": {
   "display_name": "Python 3",
   "language": "python",
   "name": "python3"
  },
  "language_info": {
   "codemirror_mode": {
    "name": "ipython",
    "version": 3
   },
   "file_extension": ".py",
   "mimetype": "text/x-python",
   "name": "python",
   "nbconvert_exporter": "python",
   "pygments_lexer": "ipython3",
   "version": "3.6.1"
  }
 },
 "nbformat": 4,
 "nbformat_minor": 2
}
